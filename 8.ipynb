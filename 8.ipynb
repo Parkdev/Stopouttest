{
 "cells": [
  {
   "cell_type": "markdown",
   "metadata": {},
   "source": [
    "### 8. 클래스와 인스턴스의 다음 사항들에 대해 서술하시오.\n",
    "\n",
    "- 클래스와 인스턴스의 차이점 [2점]\n",
    "- 클래스의 생성자 함수 이름 [1점]\n",
    "- 클래스의 생성자 함수가 호출되는 시점은? [2점]\n",
    "- 인스턴스 메서드의 `self`매개변수의 의미 [4점]"
   ]
  },
  {
   "cell_type": "code",
   "execution_count": null,
   "metadata": {},
   "outputs": [],
   "source": [
    "#클래스는 인스턴스가 공통으로 가질수있는 속성 그룹\n",
    "#인스턴스는 하나하나의 개별객체\n",
    "# 생성자 __init__\n",
    "# 호출되는 시점은 인스턴스가 만들어지는 시점\n",
    "# 만들어진 인스턴스 값 자체에 접근하겠다는 뜻"
   ]
  }
 ],
 "metadata": {
  "kernelspec": {
   "display_name": "Python 3",
   "language": "python",
   "name": "python3"
  },
  "language_info": {
   "codemirror_mode": {
    "name": "ipython",
    "version": 3
   },
   "file_extension": ".py",
   "mimetype": "text/x-python",
   "name": "python",
   "nbconvert_exporter": "python",
   "pygments_lexer": "ipython3",
   "version": "3.6.6"
  }
 },
 "nbformat": 4,
 "nbformat_minor": 2
}
