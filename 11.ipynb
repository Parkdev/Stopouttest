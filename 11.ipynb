{
 "cells": [
  {
   "cell_type": "markdown",
   "metadata": {},
   "source": [
    "### 11. `url`주소로부터 아래 결과를 출력한다. [10점]\n",
    "\n",
    "> 공지사항이 추가되면 결과는 달라질 수 있으므로, 실제 게시판의 목록이 출력되는지 확인\n",
    "> \n",
    "> top이라는 텍스트는 포함되어도 무관\n",
    "\n",
    "```\n",
    "url = 'http://www.leagueoflegends.co.kr/?m=news&cate=notice'\n",
    "```\n",
    "\n",
    "결과 출력\n",
    "\n",
    "```\n",
    "top[#2] 격전을 준비하세요! (수정)\n",
    "top격전 참여시 불건전 행위에 대한 주의사항 안내(수정)\n",
    "6월 6일(수) 서버 점검 안내\n",
    "PBE 인사이드 20화(8.12 패치 편) 방송 안내\n",
    "다시 돌아온 격전! 얼불져스 6/5(화) 방송 일정 안내\n",
    "1일 격전 테스트에 참여해 주세요\n",
    "대리 게임 등 적발 현황 262차 안내\n",
    "부정행위 프로그램 제재 현황 안내\n",
    "MadLife와 함께하는 입롤의 신 - 파이크편\n",
    "무작위 총력전 샤코 챔피언 비활성화 안내 (정상화)\n",
    "얼불져스 성적 예측 이벤트 당첨자 안내\n",
    "수수께끼 피규어(시리즈 2) 할인 판매!\n",
    "```"
   ]
  },
  {
   "cell_type": "code",
   "execution_count": 1,
   "metadata": {},
   "outputs": [],
   "source": [
    "from bs4 import BeautifulSoup\n",
    "import requests\n",
    "import re\n",
    "\n",
    "url_noticelist = \"http://www.leagueoflegends.co.kr/?m=news&cate=notice\"\n",
    "response = requests.get(url_noticelist)\n",
    "\n",
    "open ('./lol/notice_list.html', 'wt').write(response.text)\n",
    "\n",
    "with open('./lol/notice_list.html') as f:\n",
    "    html = f.read()"
   ]
  },
  {
   "cell_type": "code",
   "execution_count": 2,
   "metadata": {},
   "outputs": [],
   "source": [
    "soup = BeautifulSoup(html, 'lxml')\n",
    "notice_dict = {}\n",
    "note_table = soup.select_one('table.request-list > tbody').select('tr')\n",
    "# li_list = []\n",
    "# print(note_table)\n",
    "for li in note_table:\n",
    "    title = li.select_one('td > a').get_text(strip=True)\n",
    "    date = li.select_one('td:nth-of-type(2)').get_text(strip=True)\n",
    "    views = li.select_one('td:nth-of-type(3)').get_text(strip=True)\n",
    "    \n",
    "    if not title in notice_dict:\n",
    "        info = (date,views)\n",
    "        notice_dict[title] = info"
   ]
  },
  {
   "cell_type": "code",
   "execution_count": 3,
   "metadata": {},
   "outputs": [
    {
     "name": "stdout",
     "output_type": "stream",
     "text": [
      "승리를 쟁취하라 ('2018-10-14', '5,015')\n",
      "10월 14일(일) 금융기관별 결제 서비스 점검 안내 ('2018-10-12', '1,273')\n",
      "대리 게임 등 적발 현황 281차 안내 ('2018-10-12', '2,179')\n",
      "부정행위 프로그램 제재 현황 안내 ('2018-10-12', '924')\n",
      "인생챔프 : 큐베 - 나르편 ('2018-10-11', '1,525')\n",
      "임무 기능 장애 현상 안내 (정상화) ('2018-10-10', '2,478')\n",
      "LCK팀의 Worlds가 오늘 시작됩니다! ('2018-10-10', '2,806')\n",
      "2018 월드 챔피언십 그룹 스테이지 현장 라이엇 스토어 운영 안내 ('2018-10-09', '3,447')\n",
      "10월 10일(수) 서버 점검 및 업데이트 안내 (완료) ('2018-10-09', '12,266')\n"
     ]
    }
   ],
   "source": [
    "for i, j in notice_dict.items():\n",
    "    print(i,j)"
   ]
  }
 ],
 "metadata": {
  "kernelspec": {
   "display_name": "Python 3",
   "language": "python",
   "name": "python3"
  },
  "language_info": {
   "codemirror_mode": {
    "name": "ipython",
    "version": 3
   },
   "file_extension": ".py",
   "mimetype": "text/x-python",
   "name": "python",
   "nbconvert_exporter": "python",
   "pygments_lexer": "ipython3",
   "version": "3.6.6"
  }
 },
 "nbformat": 4,
 "nbformat_minor": 2
}
