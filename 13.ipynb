{
 "cells": [
  {
   "cell_type": "markdown",
   "metadata": {},
   "source": [
    "### 13. runserver가 `localhost:8000`에서 입력을 받는 상태로 동작 중일 때, 브라우저에서 `http://localhost:8000/abc/` 라는 URL을 입력하면 어떤 절차를 거쳐 사용자에게 다시 화면을 보여주는지 서술하시오. [10점]"
   ]
  },
  {
   "cell_type": "raw",
   "metadata": {},
   "source": [
    "1. config/url.py 에 urlpatterns에서 abc/로 시작하는 url을 확인후 views에 있는 해당 함수로 연결\n",
    "\n",
    "2. 해당 함수에서 조건 처리후 render된 html을 리턴\n",
    "\n",
    "3. 리턴된 결과를 브라우져에 표시"
   ]
  }
 ],
 "metadata": {
  "kernelspec": {
   "display_name": "Python 3",
   "language": "python",
   "name": "python3"
  },
  "language_info": {
   "codemirror_mode": {
    "name": "ipython",
    "version": 3
   },
   "file_extension": ".py",
   "mimetype": "text/x-python",
   "name": "python",
   "nbconvert_exporter": "python",
   "pygments_lexer": "ipython3",
   "version": "3.6.6"
  }
 },
 "nbformat": 4,
 "nbformat_minor": 2
}
