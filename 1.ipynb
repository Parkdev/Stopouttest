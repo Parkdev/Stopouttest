{
 "cells": [
  {
   "cell_type": "markdown",
   "metadata": {},
   "source": [
    "### 1. 다음 리스트를 사용해 아래와 같은 문자열을 만들어 `girlsday_info`변수에 할당한 후, 콘솔에 내용을 출력하시오. [5점]\n",
    "\n",
    "리스트\n",
    "\n",
    "```python\n",
    "girlsday_members = ['민아', '혜리', '유라', '소진']\n",
    "```\n",
    "\n",
    "결과 문자열\n",
    "\n",
    "```\n",
    "- 민아\n",
    "- 혜리\n",
    "- 유라\n",
    "- 소진\n",
    "```"
   ]
  },
  {
   "cell_type": "code",
   "execution_count": 2,
   "metadata": {},
   "outputs": [
    {
     "name": "stdout",
     "output_type": "stream",
     "text": [
      "- 민아\n",
      "- 혜리\n",
      "- 유라\n",
      "- 소진\n"
     ]
    }
   ],
   "source": [
    "girlsday_members = '민아 혜리 유라 소진'.split()\n",
    "girlsday_info = girlsday_members\n",
    "for i in girlsday_info:\n",
    "    print (f'- {i}')"
   ]
  },
  {
   "cell_type": "code",
   "execution_count": null,
   "metadata": {},
   "outputs": [],
   "source": []
  }
 ],
 "metadata": {
  "kernelspec": {
   "display_name": "Python 3",
   "language": "python",
   "name": "python3"
  },
  "language_info": {
   "codemirror_mode": {
    "name": "ipython",
    "version": 3
   },
   "file_extension": ".py",
   "mimetype": "text/x-python",
   "name": "python",
   "nbconvert_exporter": "python",
   "pygments_lexer": "ipython3",
   "version": "3.6.6"
  }
 },
 "nbformat": 4,
 "nbformat_minor": 2
}
